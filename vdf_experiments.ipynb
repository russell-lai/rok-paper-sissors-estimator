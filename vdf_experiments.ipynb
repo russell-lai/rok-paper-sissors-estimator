{
 "cells": [
  {
   "cell_type": "markdown",
   "id": "d0975afa-777c-4403-af07-22a9fb8812fa",
   "metadata": {},
   "source": [
    "|   |  SP =  64; k = 50   |  SP = 86; k = 65     |  SP = 128; k = 80    |\n",
    "|---|--------------|--------------|--------------|\n",
    "|   | (a1) T = 77824        | (b1)  T = 76800       | (c1) T = 80256        |\n",
    "|   | (a2) T = 38912        | (b2)  T = 38400       | (c2) T = 40128        |\n",
    "|   | (a3) T = 19456        | (b3)  T = 18432       | (c3) T = 20064         |"
   ]
  },
  {
   "cell_type": "code",
   "execution_count": 1,
   "id": "76df0a66-16b5-4767-b61e-1920ba7ff333",
   "metadata": {},
   "outputs": [],
   "source": [
    "from symbolic_variables import *\n",
    "from gen_params import gen_ring_param, gen_sis_param, gen_sis_param_aggresive\n",
    "from ring_params import *\n",
    "from protocol import Protocol\n",
    "from util import pretty_size\n",
    "import sys\n",
    "sys.path.insert(1, '../lattice-estimator')\n",
    "from estimator import *\n",
    "\n",
    "\n",
    "log_q = 62\n",
    "f = 24\n",
    "C = 3\n",
    "f_hat = f / 2\n",
    "q = 4611686019232694273\n",
    "degree = 8\n",
    "degree_vdf = 4\n",
    "\n",
    "ring_params = {'f': f,\n",
    " 'fhat': f_hat,\n",
    " 'phi': euler_phi(f),\n",
    " 'q': q,\n",
    " 'log_q': log_q,\n",
    " 'Rq_size': euler_phi(f) * log_q ,\n",
    " 'e': 2,\n",
    " 'C': C,\n",
    " 'gamma_2': 2,\n",
    " 'theta_2': 2 * f,\n",
    " 'gamma_inf': 3,\n",
    " 'theta_inf': 2 * f,\n",
    " 'ring_exp_inf': f}\n"
   ]
  },
  {
   "cell_type": "code",
   "execution_count": 2,
   "id": "cb503f1b-58ef-4ceb-98dd-e64f64f0097d",
   "metadata": {},
   "outputs": [],
   "source": [
    "def evaluate():\n",
    "    ring_param = ring_params\n",
    "    \n",
    "    sis_param = {'n': module_cyclotomic, 'log_beta_sis': log_beta_sis}\n",
    "    wit_rdim = log_q * t * module_vdf\n",
    "    beta_inf = 2 \n",
    "    beta_2 = sqrt(wit_rdim * ring_param[\"phi\"] * ring_param[\"fhat\"]) * beta_inf\n",
    "    protocol = Protocol(\n",
    "        ring_param = ring_param,\n",
    "        sis_param = sis_param,\n",
    "        rep = rep, \n",
    "        wit_rdim = wit_rdim,  \n",
    "        beta_2 = beta_2,\n",
    "        beta_inf = beta_inf,\n",
    "        # The first `norm` should be viewed as `norm+bin` check combined.\n",
    "        # Such a check would increase nbot by 4 instead of 3. \n",
    "        # We compensate for it by setting the initial nbot as 2 instead of 1. \n",
    "        nbot=2\n",
    "    )\n",
    "    for op, params in ops:\n",
    "        protocol.execute(op, **params)\n",
    "    protocol.extract()\n",
    "    \n",
    "    print(\"init size: \" + pretty_size(protocol.history[0].wit_size / 2))\n",
    "    \n",
    "    # Y_bottom size\n",
    "    size_1 = (rep * module_cyclotomic * ring_param[\"phi\"] * log_q)\n",
    "    # Y_top size\n",
    "    size_2 = ((rep + 1) * sis_param['n'] * ring_param[\"phi\"] * log_q)\n",
    "    \n",
    "    final_wit_size = protocol.history[len(protocol.history) - 1].prover_comm\n",
    "    \n",
    "    print(\"comm size: \" + pretty_size(size_1 + size_2 + final_wit_size))\n",
    "    total_t = t * rep\n",
    "    print(\"T: \", total_t)\n",
    "    \n",
    "    # protocol.print()\n",
    "    \n",
    "    params = SIS.Parameters(n=module_cyclotomic * degree, m=module_cyclotomic * degree * log_q, q=q, length_bound=2^log_beta_sis, norm=2)\n",
    "    res = SIS.estimate(params)\n",
    "    rop = float((str(res).split(' ')[2].split('^')[1].split(',')[0]))\n",
    "    assert rop > secpar\n",
    "    \n",
    "    params = SIS.Parameters(n=module_vdf * degree_vdf, m=module_vdf * degree_vdf * log_q, q=q, length_bound=2 * protocol.history[0].beta_ext_2, norm=2)\n",
    "    res = SIS.estimate(params)\n",
    "    rop = float((str(res).split(' ')[2].split('^')[1].split(',')[0]))\n",
    "    assert rop > secpar\n",
    "    \n",
    "    for h in protocol.history:\n",
    "        assert h.snderr < 2^(-kappa)\n",
    "\n",
    "    foldable_structure_len = 2^len((list(filter(lambda x: str(x) == 'fold', protocol.history))))\n",
    "    # assert block_len % module_vdf == 0\n",
    "    # assert block_len % module_cyclotomic == 0\n",
    "    assert t % foldable_structure_len == 0\n",
    "\n",
    "\n",
    "    print('''\\\n",
    "        } else if #[cfg(feature = \"%s\")] {\n",
    "            pub static MODULE_SIZE: usize = %s;\n",
    "            pub static COMMITMENT_MODULE_SIZE: usize = %s;\n",
    "            pub static CHUNKS: usize = %s;\n",
    "            pub static TIME: usize = %s;\n",
    "          ''' %(mode, module_vdf, module_cyclotomic, rep, total_t));\n",
    "        "
   ]
  },
  {
   "cell_type": "code",
   "execution_count": 3,
   "id": "9930d474-5eba-4d46-b677-2f42de80689f",
   "metadata": {},
   "outputs": [
    {
     "name": "stdout",
     "output_type": "stream",
     "text": [
      "init size: 199.3 MB\n",
      "comm size: 26.38 MB\n",
      "T:  80256\n",
      "lattice  :: rop: ≈2^128.1, red: ≈2^128.1, δ: 1.004452, β: 340, d: 3964, tag: euclidean\n",
      "lattice  :: rop: ≈2^128.7, red: ≈2^128.7, δ: 1.004373, β: 349, d: 1286, tag: euclidean\n",
      "        } else if #[cfg(feature = \"c1\")] {\n",
      "            pub static MODULE_SIZE: usize = 42;\n",
      "            pub static COMMITMENT_MODULE_SIZE: usize = 203;\n",
      "            pub static CHUNKS: usize = 57;\n",
      "            pub static TIME: usize = 80256;\n",
      "          \n"
     ]
    }
   ],
   "source": [
    "mode = \"c1\"\n",
    "\n",
    "secpar = 128\n",
    "kappa = 80\n",
    "tdim = 2\n",
    "base = 21\n",
    "\n",
    "\n",
    "log_beta_sis = 50.8\n",
    "rep = 57\n",
    "t = 64 * 22\n",
    "module_cyclotomic = 203\n",
    "module_vdf = 42\n",
    "\n",
    "opener = [(\"norm\", {}), (\"split\", {\"tdim\":tdim}), (\"fold\", {\"repout\":rep})]\n",
    "loop = [(\"bdecomp\", {\"base\":base}), (\"norm\", {}), (\"split\", {\"tdim\":tdim}), (\"fold\", {\"repout\":rep})]\n",
    "ops = opener * 3 + loop + opener + loop +  [(\"finish\", {})]\n",
    "\n",
    "evaluate()\n"
   ]
  },
  {
   "cell_type": "code",
   "execution_count": 4,
   "id": "7c6e4dc1-9169-4bbe-8d84-b25eef058f61",
   "metadata": {},
   "outputs": [
    {
     "name": "stdout",
     "output_type": "stream",
     "text": [
      "init size: 94.91 MB\n",
      "comm size: 22.15 MB\n",
      "T:  40128\n",
      "lattice  :: rop: ≈2^128.7, red: ≈2^128.7, δ: 1.004425, β: 343, d: 3405, tag: euclidean\n",
      "lattice  :: rop: ≈2^131.4, red: ≈2^131.4, δ: 1.004290, β: 359, d: 1266, tag: euclidean\n",
      "        } else if #[cfg(feature = \"c2\")] {\n",
      "            pub static MODULE_SIZE: usize = 40;\n",
      "            pub static COMMITMENT_MODULE_SIZE: usize = 149;\n",
      "            pub static CHUNKS: usize = 57;\n",
      "            pub static TIME: usize = 40128;\n",
      "          \n"
     ]
    }
   ],
   "source": [
    "mode = \"c2\"\n",
    "secpar = 128\n",
    "kappa = 80\n",
    "tdim = 2\n",
    "base = 21\n",
    "\n",
    "\n",
    "log_beta_sis = 43.4\n",
    "rep = 57\n",
    "t = 32 * 22\n",
    "module_cyclotomic = 149\n",
    "module_vdf = 40\n",
    "\n",
    "\n",
    "opener = [(\"norm\", {}), (\"split\", {\"tdim\":tdim}), (\"fold\", {\"repout\":rep})]\n",
    "loop = [(\"bdecomp\", {\"base\":base}), (\"norm\", {}), (\"split\", {\"tdim\":tdim}), (\"fold\", {\"repout\":rep})]\n",
    "ops = opener * 2 + loop + opener + loop +  [(\"finish\", {})]\n",
    "\n",
    "evaluate()"
   ]
  },
  {
   "cell_type": "code",
   "execution_count": 5,
   "id": "4eab273b-597e-401c-8ce8-844499476504",
   "metadata": {},
   "outputs": [
    {
     "name": "stdout",
     "output_type": "stream",
     "text": [
      "init size: 43.89 MB\n",
      "comm size: 14.01 MB\n",
      "T:  20064\n",
      "lattice  :: rop: ≈2^128.1, red: ≈2^128.1, δ: 1.004443, β: 341, d: 3352, tag: euclidean\n",
      "lattice  :: rop: ≈2^130.5, red: ≈2^130.5, δ: 1.004315, β: 356, d: 1215, tag: euclidean\n",
      "        } else if #[cfg(feature = \"c3\")] {\n",
      "            pub static MODULE_SIZE: usize = 37;\n",
      "            pub static COMMITMENT_MODULE_SIZE: usize = 145;\n",
      "            pub static CHUNKS: usize = 57;\n",
      "            pub static TIME: usize = 20064;\n",
      "          \n"
     ]
    }
   ],
   "source": [
    "mode = \"c3\"\n",
    "secpar = 128\n",
    "kappa = 80\n",
    "tdim = 2\n",
    "base = 21\n",
    "\n",
    "\n",
    "log_beta_sis = 42.9\n",
    "rep = 57\n",
    "t = 32 * 11\n",
    "module_cyclotomic = 145\n",
    "module_vdf = 37\n",
    "\n",
    "\n",
    "\n",
    "opener = [(\"norm\", {}), (\"split\", {\"tdim\":tdim}), (\"fold\", {\"repout\":rep})]\n",
    "loop = [(\"bdecomp\", {\"base\":base}), (\"norm\", {}), (\"split\", {\"tdim\":tdim}), (\"fold\", {\"repout\":rep})]\n",
    "ops = opener * 2 + loop + opener + loop +  [(\"finish\", {})]\n",
    "\n",
    "evaluate()"
   ]
  },
  {
   "cell_type": "code",
   "execution_count": 6,
   "id": "6b5757bd-c652-4663-8253-4145e6890976",
   "metadata": {},
   "outputs": [
    {
     "name": "stdout",
     "output_type": "stream",
     "text": [
      "init size: 131.7 MB\n",
      "comm size: 16.84 MB\n",
      "T:  76800\n",
      "lattice  :: rop: ≈2^86.1, red: ≈2^86.1, δ: 1.006483, β: 190, d: 2669, tag: euclidean\n",
      "lattice  :: rop: ≈2^88.1, red: ≈2^88.1, δ: 1.006206, β: 204, d: 897, tag: euclidean\n",
      "        } else if #[cfg(feature = \"b1\")] {\n",
      "            pub static MODULE_SIZE: usize = 29;\n",
      "            pub static COMMITMENT_MODULE_SIZE: usize = 134;\n",
      "            pub static CHUNKS: usize = 48;\n",
      "            pub static TIME: usize = 76800;\n",
      "          \n"
     ]
    }
   ],
   "source": [
    "mode = \"b1\"\n",
    "\n",
    "secpar = 86\n",
    "kappa = 65\n",
    "tdim = 2\n",
    "base = 21\n",
    "\n",
    "\n",
    "log_beta_sis = 49.8\n",
    "rep = 48\n",
    "t = 64 * 25\n",
    "module_cyclotomic = 134\n",
    "module_vdf = 29\n",
    "\n",
    "opener = [(\"norm\", {}), (\"split\", {\"tdim\":tdim}), (\"fold\", {\"repout\":rep})]\n",
    "loop = [(\"bdecomp\", {\"base\":base}), (\"norm\", {}), (\"split\", {\"tdim\":tdim}), (\"fold\", {\"repout\":rep})]\n",
    "ops = opener * 3 + loop + opener + loop +  [(\"finish\", {})]\n",
    "\n",
    "evaluate()"
   ]
  },
  {
   "cell_type": "code",
   "execution_count": 7,
   "id": "aa222386-bc50-4ae0-895e-ff03372f5e2b",
   "metadata": {},
   "outputs": [
    {
     "name": "stdout",
     "output_type": "stream",
     "text": [
      "init size: 61.30 MB\n",
      "comm size: 14.07 MB\n",
      "T:  38400\n",
      "lattice  :: rop: ≈2^86.4, red: ≈2^86.4, δ: 1.006442, β: 192, d: 2299, tag: euclidean\n",
      "lattice  :: rop: ≈2^88.1, red: ≈2^88.1, δ: 1.006206, β: 204, d: 865, tag: euclidean\n",
      "        } else if #[cfg(feature = \"b2\")] {\n",
      "            pub static MODULE_SIZE: usize = 27;\n",
      "            pub static COMMITMENT_MODULE_SIZE: usize = 99;\n",
      "            pub static CHUNKS: usize = 48;\n",
      "            pub static TIME: usize = 38400;\n",
      "          \n"
     ]
    }
   ],
   "source": [
    "mode = \"b2\"\n",
    "\n",
    "secpar = 86\n",
    "kappa = 65\n",
    "tdim = 2\n",
    "base = 21\n",
    "\n",
    "\n",
    "log_beta_sis = 42.7\n",
    "rep = 48\n",
    "t = 32 * 25\n",
    "module_cyclotomic = 99\n",
    "module_vdf = 27\n",
    "\n",
    "opener = [(\"norm\", {}), (\"split\", {\"tdim\":tdim}), (\"fold\", {\"repout\":rep})]\n",
    "loop = [(\"bdecomp\", {\"base\":base}), (\"norm\", {}), (\"split\", {\"tdim\":tdim}), (\"fold\", {\"repout\":rep})]\n",
    "ops = opener * 2 + loop + opener + loop +  [(\"finish\", {})]\n",
    "\n",
    "evaluate()\n",
    "\n",
    "\n"
   ]
  },
  {
   "cell_type": "code",
   "execution_count": 8,
   "id": "185f018e-e870-43d8-88a7-9c835754025c",
   "metadata": {},
   "outputs": [
    {
     "name": "stdout",
     "output_type": "stream",
     "text": [
      "init size: 27.25 MB\n",
      "comm size: 8.638 MB\n",
      "T:  18432\n",
      "lattice  :: rop: ≈2^86.1, red: ≈2^86.1, δ: 1.006463, β: 191, d: 2262, tag: euclidean\n",
      "lattice  :: rop: ≈2^88.0, red: ≈2^88.0, δ: 1.006206, β: 204, d: 833, tag: euclidean\n",
      "        } else if #[cfg(feature = \"b3\")] {\n",
      "            pub static MODULE_SIZE: usize = 25;\n",
      "            pub static COMMITMENT_MODULE_SIZE: usize = 96;\n",
      "            pub static CHUNKS: usize = 48;\n",
      "            pub static TIME: usize = 18432;\n",
      "          \n"
     ]
    }
   ],
   "source": [
    "mode = \"b3\"\n",
    "\n",
    "secpar = 86\n",
    "kappa = 65\n",
    "tdim = 2\n",
    "base = 21\n",
    "\n",
    "\n",
    "log_beta_sis = 42.1\n",
    "rep = 48\n",
    "t = 32 * 12\n",
    "module_cyclotomic = 96\n",
    "module_vdf = 25\n",
    "\n",
    "opener = [(\"norm\", {}), (\"split\", {\"tdim\":tdim}), (\"fold\", {\"repout\":rep})]\n",
    "loop = [(\"bdecomp\", {\"base\":base}), (\"norm\", {}), (\"split\", {\"tdim\":tdim}), (\"fold\", {\"repout\":rep})]\n",
    "ops = opener * 2 + loop + opener + loop +  [(\"finish\", {})]\n",
    "\n",
    "\n",
    "evaluate()\n",
    "\n"
   ]
  },
  {
   "cell_type": "code",
   "execution_count": 9,
   "id": "8e2c1bda-55a3-4aef-95ea-98a2e639eeba",
   "metadata": {},
   "outputs": [
    {
     "name": "stdout",
     "output_type": "stream",
     "text": [
      "init size: 96.63 MB\n",
      "comm size: 11.68 MB\n",
      "T:  77824\n",
      "lattice  :: rop: ≈2^64.5, red: ≈2^64.5, δ: 1.008705, β: 113, d: 1951, tag: euclidean\n",
      "lattice  :: rop: ≈2^64.1, red: ≈2^64.1, δ: 1.008510, β: 118, d: 652, tag: euclidean\n",
      "        } else if #[cfg(feature = \"a1\")] {\n",
      "            pub static MODULE_SIZE: usize = 21;\n",
      "            pub static COMMITMENT_MODULE_SIZE: usize = 96;\n",
      "            pub static CHUNKS: usize = 38;\n",
      "            pub static TIME: usize = 77824;\n",
      "          \n"
     ]
    }
   ],
   "source": [
    "mode = \"a1\"\n",
    "\n",
    "secpar = 64\n",
    "kappa = 50\n",
    "tdim = 2\n",
    "base = 21\n",
    "\n",
    "log_beta_sis = 48.8\n",
    "rep = 38\n",
    "t = 64 * 32\n",
    "module_cyclotomic = 96\n",
    "module_vdf = 21\n",
    "\n",
    "opener = [(\"norm\", {}), (\"split\", {\"tdim\":tdim}), (\"fold\", {\"repout\":rep})]\n",
    "loop = [(\"bdecomp\", {\"base\":base}), (\"norm\", {}), (\"split\", {\"tdim\":tdim}), (\"fold\", {\"repout\":rep})]\n",
    "ops = opener * 3 + loop + opener + loop +  [(\"finish\", {})]\n",
    "\n",
    "evaluate()\n"
   ]
  },
  {
   "cell_type": "code",
   "execution_count": 10,
   "id": "9f4bbfca-23c0-4ca8-9676-474dfe1773b5",
   "metadata": {},
   "outputs": [
    {
     "name": "stdout",
     "output_type": "stream",
     "text": [
      "init size: 46.02 MB\n",
      "comm size: 10.04 MB\n",
      "T:  38912\n",
      "lattice  :: rop: ≈2^64.8, red: ≈2^64.8, δ: 1.008626, β: 115, d: 1684, tag: euclidean\n",
      "lattice  :: rop: ≈2^65.2, red: ≈2^65.2, δ: 1.008361, β: 122, d: 642, tag: euclidean\n",
      "        } else if #[cfg(feature = \"a2\")] {\n",
      "            pub static MODULE_SIZE: usize = 20;\n",
      "            pub static COMMITMENT_MODULE_SIZE: usize = 71;\n",
      "            pub static CHUNKS: usize = 38;\n",
      "            pub static TIME: usize = 38912;\n",
      "          \n"
     ]
    }
   ],
   "source": [
    "mode = \"a2\"\n",
    "\n",
    "secpar = 64\n",
    "kappa = 50\n",
    "tdim = 2\n",
    "base = 21\n",
    "\n",
    "\n",
    "log_beta_sis = 41.8\n",
    "rep = 38\n",
    "t = 32 * 32\n",
    "module_cyclotomic = 71\n",
    "module_vdf = 20\n",
    "\n",
    "opener = [(\"norm\", {}), (\"split\", {\"tdim\":tdim}), (\"fold\", {\"repout\":rep})]\n",
    "loop = [(\"bdecomp\", {\"base\":base}), (\"norm\", {}), (\"split\", {\"tdim\":tdim}), (\"fold\", {\"repout\":rep})]\n",
    "ops = opener * 2 + loop + opener + loop +  [(\"finish\", {})]\n",
    "\n",
    "evaluate()\n"
   ]
  },
  {
   "cell_type": "code",
   "execution_count": 11,
   "id": "ee0be67a-4286-49d6-baef-f533b1580ece",
   "metadata": {},
   "outputs": [
    {
     "name": "stdout",
     "output_type": "stream",
     "text": [
      "init size: 21.86 MB\n",
      "comm size: 6.203 MB\n",
      "T:  19456\n",
      "lattice  :: rop: ≈2^64.5, red: ≈2^64.5, δ: 1.008665, β: 114, d: 1657, tag: euclidean\n",
      "lattice  :: rop: ≈2^66.5, red: ≈2^66.5, δ: 1.008182, β: 127, d: 632, tag: euclidean\n",
      "        } else if #[cfg(feature = \"a3\")] {\n",
      "            pub static MODULE_SIZE: usize = 19;\n",
      "            pub static COMMITMENT_MODULE_SIZE: usize = 69;\n",
      "            pub static CHUNKS: usize = 38;\n",
      "            pub static TIME: usize = 19456;\n",
      "          \n"
     ]
    }
   ],
   "source": [
    "mode = \"a3\"\n",
    "\n",
    "secpar = 64\n",
    "kappa = 50\n",
    "tdim = 2\n",
    "base = 21\n",
    "\n",
    "\n",
    "log_beta_sis = 41.3\n",
    "rep = 38\n",
    "t = 32 * 16\n",
    "module_cyclotomic = 69\n",
    "module_vdf = 19\n",
    "\n",
    "opener = [(\"norm\", {}), (\"split\", {\"tdim\":tdim}), (\"fold\", {\"repout\":rep})]\n",
    "loop = [(\"bdecomp\", {\"base\":base}), (\"norm\", {}), (\"split\", {\"tdim\":tdim}), (\"fold\", {\"repout\":rep})]\n",
    "ops = opener * 2 + loop + opener + loop +  [(\"finish\", {})]\n",
    "\n",
    "evaluate()\n"
   ]
  }
 ],
 "metadata": {
  "kernelspec": {
   "display_name": "SageMath 10.2",
   "language": "sage",
   "name": "sagemath"
  },
  "language_info": {
   "codemirror_mode": {
    "name": "ipython",
    "version": 3
   },
   "file_extension": ".py",
   "mimetype": "text/x-python",
   "name": "python",
   "nbconvert_exporter": "python",
   "pygments_lexer": "ipython3",
   "version": "3.11.1"
  }
 },
 "nbformat": 4,
 "nbformat_minor": 5
}
