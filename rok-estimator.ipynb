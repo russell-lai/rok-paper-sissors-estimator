{
 "cells": [
  {
   "cell_type": "markdown",
   "id": "dce72d4a",
   "metadata": {},
   "source": [
    "## TODO\n",
    "- Cross-check protocol costs once they are fixed in the paper.\n",
    "- Fill in the correct costs for subtractive sets i.e. size, expansion factor, inverse expansion factor, etc."
   ]
  },
  {
   "cell_type": "code",
   "execution_count": 7,
   "id": "5949d6b2-fa31-4573-a762-f4ecf3cd5dde",
   "metadata": {},
   "outputs": [],
   "source": [
    "from symbolic_variables import *\n",
    "from gen_params import gen_ring_param, gen_sis_param, gen_sis_param_aggresive\n",
    "from ring_params import *\n",
    "from protocol import Protocol\n",
    "from util import pretty_size"
   ]
  },
  {
   "cell_type": "code",
   "execution_count": 6,
   "id": "78a925ee-cb34-496d-9643-4cd1a465d32e",
   "metadata": {},
   "outputs": [
    {
     "name": "stdout",
     "output_type": "stream",
     "text": [
      "{'n': 201, 'log_beta_sis': 51}\n"
     ]
    },
    {
     "ename": "AssertionError",
     "evalue": "",
     "output_type": "error",
     "traceback": [
      "\u001b[0;31m---------------------------------------------------------------------------\u001b[0m",
      "\u001b[0;31mAssertionError\u001b[0m                            Traceback (most recent call last)",
      "Cell \u001b[0;32mIn [6], line 59\u001b[0m\n\u001b[1;32m     57\u001b[0m \u001b[38;5;28;01mfor\u001b[39;00m op, params \u001b[38;5;129;01min\u001b[39;00m ops:\n\u001b[1;32m     58\u001b[0m     protocol\u001b[38;5;241m.\u001b[39mexecute(op, \u001b[38;5;241m*\u001b[39m\u001b[38;5;241m*\u001b[39mparams)\n\u001b[0;32m---> 59\u001b[0m \u001b[43mprotocol\u001b[49m\u001b[38;5;241;43m.\u001b[39;49m\u001b[43mextract\u001b[49m\u001b[43m(\u001b[49m\u001b[43m)\u001b[49m\n\u001b[1;32m     60\u001b[0m protocol\u001b[38;5;241m.\u001b[39mprint()\n",
      "File \u001b[0;32m~/Library/Mobile Documents/com~apple~CloudDocs/sage-notebooks/rok-paper-sissors-estimator/protocol.py:50\u001b[0m, in \u001b[0;36mProtocol.extract\u001b[0;34m(self)\u001b[0m\n\u001b[1;32m     48\u001b[0m history \u001b[38;5;241m=\u001b[39m \u001b[38;5;28mself\u001b[39m\u001b[38;5;241m.\u001b[39mhistory\n\u001b[1;32m     49\u001b[0m l \u001b[38;5;241m=\u001b[39m \u001b[38;5;28mlen\u001b[39m(history)\n\u001b[0;32m---> 50\u001b[0m \u001b[38;5;28;01massert\u001b[39;00m history[l\u001b[38;5;241m-\u001b[39m\u001b[38;5;241m1\u001b[39m]\u001b[38;5;241m.\u001b[39mop \u001b[38;5;241m==\u001b[39m \u001b[38;5;124m\"\u001b[39m\u001b[38;5;124mfinish\u001b[39m\u001b[38;5;124m\"\u001b[39m\n\u001b[1;32m     51\u001b[0m history[l\u001b[38;5;241m-\u001b[39m\u001b[38;5;241m1\u001b[39m]\u001b[38;5;241m.\u001b[39mbeta_ext_2 \u001b[38;5;241m=\u001b[39m history[l\u001b[38;5;241m-\u001b[39m\u001b[38;5;241m1\u001b[39m]\u001b[38;5;241m.\u001b[39mbeta_wit_2\n\u001b[1;32m     52\u001b[0m history[l\u001b[38;5;241m-\u001b[39m\u001b[38;5;241m1\u001b[39m]\u001b[38;5;241m.\u001b[39mbeta_ext_inf \u001b[38;5;241m=\u001b[39m history[l\u001b[38;5;241m-\u001b[39m\u001b[38;5;241m1\u001b[39m]\u001b[38;5;241m.\u001b[39mbeta_wit_inf\n",
      "\u001b[0;31mAssertionError\u001b[0m: "
     ]
    }
   ],
   "source": [
    "\n",
    "log_q = 64\n",
    "f = 24\n",
    "C = 3\n",
    "f_hat = f / 2\n",
    "\n",
    "log_beta_sis = 51\n",
    "rep = 57\n",
    "T = 100000 #\n",
    "tdim = 2\n",
    "ell = 2\n",
    "\n",
    "opener = [(\"norm\", {}), (\"split\", {\"tdim\":tdim}), (\"fold\", {\"repout\":rep})]\n",
    "loop = [(\"bdecomp\", {\"ell\":ell}), (\"norm\", {}), (\"split\", {\"tdim\":tdim}), (\"fold\", {\"repout\":rep})]\n",
    "ops = opener * 3 + loop + [(\"bdecomp\", {\"ell\":ell}), (\"norm\", {}), (\"finish\", {})] + opener + loop +  [(\"finish\", {})]\n",
    "#ops = opener + 5 * loop + [(\"finish\", {})]\n",
    "\n",
    "ring_params = {'f': f,\n",
    " 'fhat': f_hat,\n",
    " 'phi': euler_phi(f),\n",
    " 'q': 2^log_q,\n",
    " 'log_q': log_q,\n",
    " 'Rq_size': euler_phi(f) * log_q ,\n",
    " 'e': 4,\n",
    " 'C': C,\n",
    " 'gamma_2': 2,\n",
    " 'theta_2': 2 * f,\n",
    " 'gamma_inf': 3,\n",
    " 'theta_inf': 2 * f,\n",
    " 'ring_exp_inf': f}\n",
    "\n",
    "ring_param = ring_params\n",
    "\n",
    "sis_param = gen_sis_param(ring_param = ring_param, log_beta_sis = log_beta_sis)\n",
    "\n",
    "\n",
    "print(sis_param)\n",
    "# wit_rdim = T * sis_param['n'] * ring_params['log_q'] / rep\n",
    "wit_rdim = wit_rdim = 2**30/ring_param[\"phi\"]/rep\n",
    "\n",
    "beta_inf = 2 \n",
    "beta_2 = sqrt(wit_rdim * ring_param[\"phi\"] * ring_param[\"fhat\"]) * beta_inf\n",
    "\n",
    "\n",
    "tdim = 2\n",
    "protocol = Protocol(\n",
    "    ring_param = ring_param,\n",
    "    sis_param = sis_param,\n",
    "    rep = rep, \n",
    "    wit_rdim = wit_rdim,  \n",
    "    beta_2 = beta_2,\n",
    "    beta_inf = beta_inf\n",
    ")\n",
    "\n",
    "\n",
    "\n",
    "\n",
    "for op, params in ops:\n",
    "    protocol.execute(op, **params)\n",
    "protocol.extract()\n",
    "protocol.print()\n",
    "\n"
   ]
  },
  {
   "cell_type": "code",
   "execution_count": 16,
   "id": "fda0690a-5116-4a54-a01c-0c580e39801b",
   "metadata": {},
   "outputs": [
    {
     "name": "stdout",
     "output_type": "stream",
     "text": [
      "10433.592039800995\n"
     ]
    },
    {
     "data": {
      "text/plain": [
       "10.9552716417910"
      ]
     },
     "execution_count": 16,
     "metadata": {},
     "output_type": "execute_result"
    }
   ],
   "source": [
    "# pretty_size(rep * log_q * sis_param['n'] * ring_param[\"phi\"] * 2)\n",
    "\n",
    "T = wit_rdim * rep / (log_q * sis_param['n'])\n",
    "print(float(T))\n",
    "\n",
    "\n",
    "T * 0.063 / 60\n",
    "\n"
   ]
  }
 ],
 "metadata": {
  "kernelspec": {
   "display_name": "SageMath 10.2",
   "language": "sage",
   "name": "sagemath"
  },
  "language_info": {
   "codemirror_mode": {
    "name": "ipython",
    "version": 3
   },
   "file_extension": ".py",
   "mimetype": "text/x-python",
   "name": "python",
   "nbconvert_exporter": "python",
   "pygments_lexer": "ipython3",
   "version": "3.11.1"
  }
 },
 "nbformat": 4,
 "nbformat_minor": 5
}
